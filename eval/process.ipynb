{
 "cells": [
  {
   "cell_type": "code",
   "execution_count": 29,
   "id": "aacd7bde",
   "metadata": {},
   "outputs": [],
   "source": [
    "from pathlib import Path\n",
    "import re\n",
    "import math\n",
    "from collections import Counter\n",
    "import json"
   ]
  },
  {
   "cell_type": "code",
   "execution_count": 37,
   "id": "49e0739a",
   "metadata": {},
   "outputs": [
    {
     "name": "stdout",
     "output_type": "stream",
     "text": [
      "wasms/paho-mqtt-app.wasm\n",
      "wasms/lua.wasm\n",
      "wasms/bash.wasm\n",
      "wasms/vim.wasm\n"
     ]
    }
   ],
   "source": [
    "cdir = Path('.')\n",
    "wasmdir = cdir / 'wasms'\n",
    "profdir = cdir / 'profiles'\n",
    "\n",
    "#def parse_obj(fname):\n",
    "#    with open(fname) as f:\n",
    "#        content = f.read()\n",
    "#    p = re.findall(r'Custom:\\n - name: \"name\"\\n(.*)Custom:\\n', content, flags=re.DOTALL)[0]\n",
    "#    num_imports = int(re.findall(r'Import\\[(\\d+)\\]:', content)[0])\n",
    "#    matches = re.findall(r'\\s*-\\s*func\\[(\\d+)\\]\\s*<(\\S+)>', p, flags=re.DOTALL)\n",
    "#    return {int(k): v for k, v in dict(matches).items() if int(k) >= num_imports}\n",
    "    \n",
    "\n",
    "agg_metric = Counter({})\n",
    "agg_cc = {}\n",
    "share_ftr = {}\n",
    "\n",
    "num_files = 0\n",
    "for wasm in wasmdir.glob('*.wasm'):\n",
    "    print(wasm)\n",
    "    with open(profdir / f\"{wasm.stem}.profile\") as f:\n",
    "        # Get profile counts\n",
    "        count_vec = [int(x.split(':')[1]) for x in f.read().split(',')]\n",
    "        with open(profdir / f\"{wasm.stem}.func_idx\") as g:\n",
    "            fn_dict = json.load(g)['defs']\n",
    "        # Log normalize the counts\n",
    "        app_profile = {k: (math.log1p(count_vec[v])) for k, v in fn_dict.items()}\n",
    "        app_profile = {k: v for k, v in sorted(app_profile.items(), key=lambda item: item[1], reverse=True)}\n",
    "        norm = sum(app_profile.values())\n",
    "        app_profile = {k: round(v/norm, 4) for k, v in app_profile.items() }\n",
    "        with open(cdir / 'parsed' / f\"{wasm.stem}.json\", 'w') as fp:\n",
    "            json.dump(app_profile, fp, indent=4)\n",
    "        # Compute share factor \n",
    "        for k in app_profile.keys():\n",
    "            if k not in share_ftr:\n",
    "                share_ftr[k] = -1\n",
    "            share_ftr[k] += 1\n",
    "        # Aggregate stats across all files\n",
    "        agg_metric.update(Counter(app_profile))\n",
    "        num_files += 1\n",
    "        # Call counts\n",
    "        with open(profdir / f\"{wasm.stem}.call_count\") as g:\n",
    "            agg_cc = { **agg_cc, **json.load(g) }\n",
    "    \n",
    "# Apply aggregation formula\n",
    "constant = 1500\n",
    "agg_metric = {k: constant * (v/num_files)*(share_ftr[k]**3) for k, v in agg_metric.items() if k in agg_cc}\n",
    "outd = {k: {\"metric\": round(v, 4), \\\n",
    "            \"share\": share_ftr[k], \\\n",
    "            # -1 for calls since we include the call to instrument\n",
    "            \"calls\": agg_cc[k][\"calls\"] - 1, \\\n",
    "            \"indirects\": agg_cc[k][\"indirects\"] \\\n",
    "           } for k, v in sorted(agg_metric.items(), key=lambda item: item[1], reverse=True)}\n",
    "\n",
    "with open(cdir / 'aggregate.json', 'w') as f:\n",
    "    json.dump(outd, f, indent=4)\n"
   ]
  },
  {
   "cell_type": "code",
   "execution_count": 58,
   "id": "1669b019",
   "metadata": {},
   "outputs": [],
   "source": [
    "with open(cdir / 'aggregate.json', 'r') as f:\n",
    "    dt = json.load(f)\n",
    "dt = {k: v for k, v in dt.items() if v['metric'] != 0}  "
   ]
  },
  {
   "cell_type": "code",
   "execution_count": 63,
   "id": "19ecac8a",
   "metadata": {},
   "outputs": [
    {
     "name": "stdout",
     "output_type": "stream",
     "text": [
      "251\n"
     ]
    }
   ],
   "source": [
    "# Total functions\n",
    "p = dt\n",
    "print(len(p))"
   ]
  },
  {
   "cell_type": "code",
   "execution_count": 64,
   "id": "d9bf9db0",
   "metadata": {},
   "outputs": [
    {
     "name": "stdout",
     "output_type": "stream",
     "text": [
      "42\n",
      "{'a_ctz_32': 200.475, 'memcpy': 174.15, 'strlen': 159.975, 'a_or': 156.9375, 'strncmp': 145.8, '__stpcpy': 143.775, '__towrite': 118.4625, 'strcmp': 118.4625, 'memset': 111.375, 'strspn': 93.15, 'memchr': 86.0625, 'memcmp': 83.025, 'a_swap': 79.9875, '__pthread_setcancelstate': 73.9125, '__errno_location': 71.8875, 'isalnum': 64.8, 'tolower': 63.7875, 'a_or_64': 48.6, 'a_clz_32': 43.5375, '__shlim': 40.5, 'a_store': 36.45, '__wasm_init_memory': 24.3, 'a_ctz_64': 18.3, 'a_fetch_add': 13.1625, 'a_barrier': 12.9, 'sigemptyset': 12.9, 'dummy': 10.125, '__testcancel': 7.5, '__memrchr': 7.2, 'a_cas': 6.075, 'dummy_0': 5.7, 'toupper': 4.8, 'a_inc': 3.9, 'sigismember': 3.6, 'htons': 3.0, 'atoi': 3.0, 'setvbuf': 2.1, 'a_dec': 1.8, 'rand': 1.425, 'abs': 1.0875, 'sem_destroy': 0.7125, 'srand': 0.225}\n"
     ]
    }
   ],
   "source": [
    "# No call functions\n",
    "p = {k: v['metric'] for k, v in dt.items() if v['calls'] == 0 and v['indirects'] == 0}\n",
    "print(len(p))\n",
    "print(p)"
   ]
  },
  {
   "cell_type": "code",
   "execution_count": 65,
   "id": "08e316ad",
   "metadata": {},
   "outputs": [
    {
     "name": "stdout",
     "output_type": "stream",
     "text": [
      "193\n",
      "{'__unlock': 205.5375, 'enframe': 202.5, '__libc_malloc_impl': 200.475, 'get_meta': 192.375, '__libc_free': 192.375, 'free': 191.3625, 'alloc_slot': 166.05, 'nontrivial_free': 163.0125, 'default_malloc': 152.8875, '__syscall_ret': 149.85, '__malloc_alloc_meta': 144.7875, 'strcpy': 143.775, '__libc_realloc': 139.725, 'realloc': 139.725, 'printf_core': 137.7, 'pop_arg': 131.625, '__strchrnul': 125.55, 'sn_write': 118.4625, 'vsnprintf': 116.4375, '__clock_gettime': 108.3375, '__lock': 100.2375, 'strchr': 96.1875, '__mmap': 94.1625, 'strdup': 92.1375, 'strtok': 91.125, 'strcspn': 91.125, 'putenv': 90.1125, '__stdio_write': 84.0375, '__munmap': 83.025, 'sccp': 70.875, '__syscall_cp': 70.875, 'strnlen': 67.8375, 'snprintf': 67.8375, 'getenv': 60.75, 'time': 59.7375, '__libc_sigaction': 51.6375, '__sigaction': 51.6375, 'sigaddset': 47.5875, '__fstatat': 46.575, 'read': 41.5125, 'printf': 40.5, '__lockfile': 37.4625, '__unlockfile': 37.4625, '__intscan': 37.4625, '__stdio_read': 37.4625, 'fgets': 36.45, 'open': 34.425, '__ofl_lock': 31.3875, '__ofl_unlock': 31.3875, '__stpncpy': 30.6, 'strncpy': 30.6, '__mprotect': 30.375, 'close': 30.375, 'strstr': 27.3375, '__block_app_sigs': 25.3125, '__restore_sigs': 25.3125, '__fstat': 24.3, '__stdio_close': 22.275, 'fprintf': 22.275, '__putenv': 19.5, 'gettimeofday': 18.9, 'twoway_strstr': 18.225, '__fmodeflags': 18.225, '__fdopen': 18.225, 'fopen': 18.225, '__ofl_add': 18.225, 'strtoul': 17.2125, 'access': 17.2125, '_start': 15.1875, 'main': 15.1875, '__wasm_init_tp': 15.1875, 'init_env': 15.1875, '__block_all_sigs': 15.1875, '__main_void': 15.1875, 'putc': 13.5, 'poll': 11.4, '__stdout_write': 11.1375, 'fputs': 11.1375, 'stat': 10.8, '__timedwait_cp': 9.6, 'sigprocmask': 9.6, 'pthread_sigmask': 9.6, '__malloc_allzerop': 9.3, '__timedwait': 9.3, '__clock_nanosleep': 9.0, 'nanosleep': 9.0, 'calloc': 9.0, 'ioctl': 8.4, 'fcntl': 8.1, 'readdir': 8.1, '__libc_malloc': 8.1, '__shgetc': 8.1, '__lseek': 8.1, '__pthread_testcancel': 7.5, '__get_locale': 7.5, 'strrchr': 7.2, '__qsort_r': 6.9, 'qsort': 6.9, 'setlocale': 6.3, '__stdio_seek': 6.075, 'strncasecmp': 6.0, 'opendir': 5.4, 'lstat': 4.8, '__release_ptc': 4.5, '__pthread_rwlock_unlock': 4.5, 'ferror': 4.2, 'getc': 4.05, 'closedir': 3.9, '__inet_aton': 3.0, '__lookup_ipliteral': 3.0, 'mblen': 3.0, 'mbtowc': 3.0, 'waitpid': 3.0, 'write': 2.7, 'strcat': 2.4, 'strpbrk': 2.4, 'pipe': 2.1, 'strcasecmp': 1.95, 'connect': 1.8, 'freeaddrinfo': 1.8, 'getaddrinfo': 1.8, 'inet_pton': 1.8, 'mbsrtowcs': 1.8, 'mbstowcs': 1.8, '__lookup_name': 1.8, '__lookup_serv': 1.8, 'cleanup': 1.8, 'socket': 1.8, '__fopen_rb_ca': 1.8, '_pthread_cleanup_push': 1.8, 'hash_lookup': 1.6125, 'sprintf': 1.4625, 'vsprintf': 1.4625, 'mbrtowc': 1.425, 'sem_trywait': 1.3125, 'hash_search': 1.3125, 'unlink': 1.2, 'fileno': 1.125, '__getpwent_a': 1.125, 'getdelim': 1.125, 'getline': 1.125, 'sem_post': 1.05, '_Exit': 1.0125, 'exit': 1.0125, 'rename': 1.0125, 'tputs': 0.9375, 'sem_timedwait': 0.9, 'sem_wait': 0.9, 'subexpr': 0.9, 'expr': 0.8625, 'list_append': 0.75, 'sem_init': 0.7125, 'tcgetattr': 0.675, 'tcsetattr': 0.6375, '__nl_langinfo': 0.5625, 'list_reverse': 0.4875, 'getpid': 0.45, 'chdir': 0.45, 'signal': 0.45, 'tgoto': 0.45, 'isatty': 0.4125, 'select': 0.4125, 'exp1': 0.375, 'pow': 0.3375, 'getcwd': 0.3375, 'setitimer': 0.3375, 'read_string': 0.3, 'check_readonly': 0.3, 'feof': 0.3, 'tgetent': 0.3, 'getrlimit': 0.3, 'getchr': 0.3, '_Fork': 0.2625, 'fork': 0.2625, 'getuid': 0.2625, 'sysconf': 0.225, 'uname': 0.225, 'getsockopt': 0.225, 'f_call': 0.225, 'tgetstr': 0.225, '__getpw_a': 0.1875, 'getpwuid': 0.1875, 'executable_file': 0.15, 'setpwent': 0.15, 'dup': 0.15, 'dup2': 0.15, 'getgid': 0.15, 'tgetflag': 0.1125, 'readlink': 0.1125, 'tgetnum': 0.075, '__getauxval': 0.075, 'umask': 0.075, '__lsysinfo': 0.0375}\n"
     ]
    }
   ],
   "source": [
    "# Only direct calls\n",
    "p = {k: v['metric'] for k, v in dt.items() if v['calls'] != 0 and v['indirects'] == 0}\n",
    "print(len(p))\n",
    "print(p)"
   ]
  },
  {
   "cell_type": "code",
   "execution_count": 66,
   "id": "6762507a",
   "metadata": {},
   "outputs": [
    {
     "name": "stdout",
     "output_type": "stream",
     "text": [
      "3\n",
      "{'__toread': 38.475, 'wrapper_cmp': 25.5, '__fclose_ca': 1.8}\n"
     ]
    }
   ],
   "source": [
    "# Only indirect calls\n",
    "p = {k: v['metric'] for k, v in dt.items() if v['calls'] == v['indirects'] and v['calls'] != 0}\n",
    "print(len(p))\n",
    "print(p)"
   ]
  },
  {
   "cell_type": "code",
   "execution_count": 67,
   "id": "c85f3860",
   "metadata": {},
   "outputs": [
    {
     "name": "stdout",
     "output_type": "stream",
     "text": [
      "13\n",
      "{'__fwritex': 160.9875, 'vfprintf': 122.5125, 'fflush': 39.4875, '__uflow': 34.425, 'fwrite': 22.275, 'sift': 19.2, 'fclose': 18.225, 'trinkle': 17.1, '__overflow': 10.2, 'fread': 7.0875, '_pthread_cleanup_pop': 1.8, 'libc_exit_fini': 1.0125, '__stdio_exit': 1.0125}\n"
     ]
    }
   ],
   "source": [
    "# Both direct and indirect calls\n",
    "p = {k: v['metric'] for k, v in dt.items() if v['indirects'] != 0 and v['indirects'] != v['calls']}\n",
    "print(len(p))\n",
    "print(p)"
   ]
  },
  {
   "cell_type": "code",
   "execution_count": null,
   "id": "5117da6c",
   "metadata": {},
   "outputs": [],
   "source": []
  }
 ],
 "metadata": {
  "kernelspec": {
   "display_name": "Python 3 (ipykernel)",
   "language": "python",
   "name": "python3"
  },
  "language_info": {
   "codemirror_mode": {
    "name": "ipython",
    "version": 3
   },
   "file_extension": ".py",
   "mimetype": "text/x-python",
   "name": "python",
   "nbconvert_exporter": "python",
   "pygments_lexer": "ipython3",
   "version": "3.10.12"
  }
 },
 "nbformat": 4,
 "nbformat_minor": 5
}
